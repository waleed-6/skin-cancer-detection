{
  "nbformat": 4,
  "nbformat_minor": 0,
  "metadata": {
    "colab": {
      "name": "cancer.ipynb",
      "provenance": [],
      "collapsed_sections": []
    },
    "kernelspec": {
      "name": "python3",
      "display_name": "Python 3"
    },
    "language_info": {
      "name": "python"
    },
    "accelerator": "GPU",
    "widgets": {
      "application/vnd.jupyter.widget-state+json": {
        "585a83bdb3b74a828c01e99223b1ae9a": {
          "model_module": "@jupyter-widgets/controls",
          "model_name": "HBoxModel",
          "model_module_version": "1.5.0",
          "state": {
            "_view_name": "HBoxView",
            "_dom_classes": [],
            "_model_name": "HBoxModel",
            "_view_module": "@jupyter-widgets/controls",
            "_model_module_version": "1.5.0",
            "_view_count": null,
            "_view_module_version": "1.5.0",
            "box_style": "",
            "layout": "IPY_MODEL_0b0ac026e80b455f888ae52f0693694e",
            "_model_module": "@jupyter-widgets/controls",
            "children": [
              "IPY_MODEL_6aab287fcd9d46b9b9e870cb9c044d76",
              "IPY_MODEL_fc0525426d904775b2f5c0b9e1325b32",
              "IPY_MODEL_b09c9316ca9e44ffae8410ac651208c3"
            ]
          }
        },
        "0b0ac026e80b455f888ae52f0693694e": {
          "model_module": "@jupyter-widgets/base",
          "model_name": "LayoutModel",
          "model_module_version": "1.2.0",
          "state": {
            "_view_name": "LayoutView",
            "grid_template_rows": null,
            "right": null,
            "justify_content": null,
            "_view_module": "@jupyter-widgets/base",
            "overflow": null,
            "_model_module_version": "1.2.0",
            "_view_count": null,
            "flex_flow": null,
            "width": null,
            "min_width": null,
            "border": null,
            "align_items": null,
            "bottom": null,
            "_model_module": "@jupyter-widgets/base",
            "top": null,
            "grid_column": null,
            "overflow_y": null,
            "overflow_x": null,
            "grid_auto_flow": null,
            "grid_area": null,
            "grid_template_columns": null,
            "flex": null,
            "_model_name": "LayoutModel",
            "justify_items": null,
            "grid_row": null,
            "max_height": null,
            "align_content": null,
            "visibility": null,
            "align_self": null,
            "height": null,
            "min_height": null,
            "padding": null,
            "grid_auto_rows": null,
            "grid_gap": null,
            "max_width": null,
            "order": null,
            "_view_module_version": "1.2.0",
            "grid_template_areas": null,
            "object_position": null,
            "object_fit": null,
            "grid_auto_columns": null,
            "margin": null,
            "display": null,
            "left": null
          }
        },
        "6aab287fcd9d46b9b9e870cb9c044d76": {
          "model_module": "@jupyter-widgets/controls",
          "model_name": "HTMLModel",
          "model_module_version": "1.5.0",
          "state": {
            "_view_name": "HTMLView",
            "style": "IPY_MODEL_012602d5b134411291b8b5dfd07349ac",
            "_dom_classes": [],
            "description": "",
            "_model_name": "HTMLModel",
            "placeholder": "​",
            "_view_module": "@jupyter-widgets/controls",
            "_model_module_version": "1.5.0",
            "value": "100%",
            "_view_count": null,
            "_view_module_version": "1.5.0",
            "description_tooltip": null,
            "_model_module": "@jupyter-widgets/controls",
            "layout": "IPY_MODEL_149549cd16814cb3b241392b3195eae9"
          }
        },
        "fc0525426d904775b2f5c0b9e1325b32": {
          "model_module": "@jupyter-widgets/controls",
          "model_name": "FloatProgressModel",
          "model_module_version": "1.5.0",
          "state": {
            "_view_name": "ProgressView",
            "style": "IPY_MODEL_5d3734fb74d44fedab1d2b5cdcb5645d",
            "_dom_classes": [],
            "description": "",
            "_model_name": "FloatProgressModel",
            "bar_style": "success",
            "max": 553433881,
            "_view_module": "@jupyter-widgets/controls",
            "_model_module_version": "1.5.0",
            "value": 553433881,
            "_view_count": null,
            "_view_module_version": "1.5.0",
            "orientation": "horizontal",
            "min": 0,
            "description_tooltip": null,
            "_model_module": "@jupyter-widgets/controls",
            "layout": "IPY_MODEL_d7c0705975224cc4865eed36b41c881f"
          }
        },
        "b09c9316ca9e44ffae8410ac651208c3": {
          "model_module": "@jupyter-widgets/controls",
          "model_name": "HTMLModel",
          "model_module_version": "1.5.0",
          "state": {
            "_view_name": "HTMLView",
            "style": "IPY_MODEL_fc995a3d79804d9e97d01e41b5519d7b",
            "_dom_classes": [],
            "description": "",
            "_model_name": "HTMLModel",
            "placeholder": "​",
            "_view_module": "@jupyter-widgets/controls",
            "_model_module_version": "1.5.0",
            "value": " 528M/528M [00:02&lt;00:00, 227MB/s]",
            "_view_count": null,
            "_view_module_version": "1.5.0",
            "description_tooltip": null,
            "_model_module": "@jupyter-widgets/controls",
            "layout": "IPY_MODEL_5a58d413d8b9458bacdefd72f9eb306c"
          }
        },
        "012602d5b134411291b8b5dfd07349ac": {
          "model_module": "@jupyter-widgets/controls",
          "model_name": "DescriptionStyleModel",
          "model_module_version": "1.5.0",
          "state": {
            "_view_name": "StyleView",
            "_model_name": "DescriptionStyleModel",
            "description_width": "",
            "_view_module": "@jupyter-widgets/base",
            "_model_module_version": "1.5.0",
            "_view_count": null,
            "_view_module_version": "1.2.0",
            "_model_module": "@jupyter-widgets/controls"
          }
        },
        "149549cd16814cb3b241392b3195eae9": {
          "model_module": "@jupyter-widgets/base",
          "model_name": "LayoutModel",
          "model_module_version": "1.2.0",
          "state": {
            "_view_name": "LayoutView",
            "grid_template_rows": null,
            "right": null,
            "justify_content": null,
            "_view_module": "@jupyter-widgets/base",
            "overflow": null,
            "_model_module_version": "1.2.0",
            "_view_count": null,
            "flex_flow": null,
            "width": null,
            "min_width": null,
            "border": null,
            "align_items": null,
            "bottom": null,
            "_model_module": "@jupyter-widgets/base",
            "top": null,
            "grid_column": null,
            "overflow_y": null,
            "overflow_x": null,
            "grid_auto_flow": null,
            "grid_area": null,
            "grid_template_columns": null,
            "flex": null,
            "_model_name": "LayoutModel",
            "justify_items": null,
            "grid_row": null,
            "max_height": null,
            "align_content": null,
            "visibility": null,
            "align_self": null,
            "height": null,
            "min_height": null,
            "padding": null,
            "grid_auto_rows": null,
            "grid_gap": null,
            "max_width": null,
            "order": null,
            "_view_module_version": "1.2.0",
            "grid_template_areas": null,
            "object_position": null,
            "object_fit": null,
            "grid_auto_columns": null,
            "margin": null,
            "display": null,
            "left": null
          }
        },
        "5d3734fb74d44fedab1d2b5cdcb5645d": {
          "model_module": "@jupyter-widgets/controls",
          "model_name": "ProgressStyleModel",
          "model_module_version": "1.5.0",
          "state": {
            "_view_name": "StyleView",
            "_model_name": "ProgressStyleModel",
            "description_width": "",
            "_view_module": "@jupyter-widgets/base",
            "_model_module_version": "1.5.0",
            "_view_count": null,
            "_view_module_version": "1.2.0",
            "bar_color": null,
            "_model_module": "@jupyter-widgets/controls"
          }
        },
        "d7c0705975224cc4865eed36b41c881f": {
          "model_module": "@jupyter-widgets/base",
          "model_name": "LayoutModel",
          "model_module_version": "1.2.0",
          "state": {
            "_view_name": "LayoutView",
            "grid_template_rows": null,
            "right": null,
            "justify_content": null,
            "_view_module": "@jupyter-widgets/base",
            "overflow": null,
            "_model_module_version": "1.2.0",
            "_view_count": null,
            "flex_flow": null,
            "width": null,
            "min_width": null,
            "border": null,
            "align_items": null,
            "bottom": null,
            "_model_module": "@jupyter-widgets/base",
            "top": null,
            "grid_column": null,
            "overflow_y": null,
            "overflow_x": null,
            "grid_auto_flow": null,
            "grid_area": null,
            "grid_template_columns": null,
            "flex": null,
            "_model_name": "LayoutModel",
            "justify_items": null,
            "grid_row": null,
            "max_height": null,
            "align_content": null,
            "visibility": null,
            "align_self": null,
            "height": null,
            "min_height": null,
            "padding": null,
            "grid_auto_rows": null,
            "grid_gap": null,
            "max_width": null,
            "order": null,
            "_view_module_version": "1.2.0",
            "grid_template_areas": null,
            "object_position": null,
            "object_fit": null,
            "grid_auto_columns": null,
            "margin": null,
            "display": null,
            "left": null
          }
        },
        "fc995a3d79804d9e97d01e41b5519d7b": {
          "model_module": "@jupyter-widgets/controls",
          "model_name": "DescriptionStyleModel",
          "model_module_version": "1.5.0",
          "state": {
            "_view_name": "StyleView",
            "_model_name": "DescriptionStyleModel",
            "description_width": "",
            "_view_module": "@jupyter-widgets/base",
            "_model_module_version": "1.5.0",
            "_view_count": null,
            "_view_module_version": "1.2.0",
            "_model_module": "@jupyter-widgets/controls"
          }
        },
        "5a58d413d8b9458bacdefd72f9eb306c": {
          "model_module": "@jupyter-widgets/base",
          "model_name": "LayoutModel",
          "model_module_version": "1.2.0",
          "state": {
            "_view_name": "LayoutView",
            "grid_template_rows": null,
            "right": null,
            "justify_content": null,
            "_view_module": "@jupyter-widgets/base",
            "overflow": null,
            "_model_module_version": "1.2.0",
            "_view_count": null,
            "flex_flow": null,
            "width": null,
            "min_width": null,
            "border": null,
            "align_items": null,
            "bottom": null,
            "_model_module": "@jupyter-widgets/base",
            "top": null,
            "grid_column": null,
            "overflow_y": null,
            "overflow_x": null,
            "grid_auto_flow": null,
            "grid_area": null,
            "grid_template_columns": null,
            "flex": null,
            "_model_name": "LayoutModel",
            "justify_items": null,
            "grid_row": null,
            "max_height": null,
            "align_content": null,
            "visibility": null,
            "align_self": null,
            "height": null,
            "min_height": null,
            "padding": null,
            "grid_auto_rows": null,
            "grid_gap": null,
            "max_width": null,
            "order": null,
            "_view_module_version": "1.2.0",
            "grid_template_areas": null,
            "object_position": null,
            "object_fit": null,
            "grid_auto_columns": null,
            "margin": null,
            "display": null,
            "left": null
          }
        }
      }
    }
  },
  "cells": [
    {
      "cell_type": "code",
      "execution_count": null,
      "metadata": {
        "id": "nc0sWIbplHOV"
      },
      "outputs": [],
      "source": [
        "from torchvision import datasets,transforms,models\n",
        "from torch.utils.data import DataLoader\n",
        "import matplotlib.pyplot as plt\n",
        "import torch.nn as nn\n",
        "import torch.nn.functional as F\n",
        "import numpy as np\n",
        "import torch\n",
        "import torch.optim as optim"
      ]
    },
    {
      "cell_type": "code",
      "source": [
        "from google.colab import drive\n",
        "drive.mount('/content/drive')"
      ],
      "metadata": {
        "colab": {
          "base_uri": "https://localhost:8080/"
        },
        "id": "akMKHGR22T5X",
        "outputId": "b7b49c13-9d97-4df9-963f-541c982560b8"
      },
      "execution_count": null,
      "outputs": [
        {
          "output_type": "stream",
          "name": "stdout",
          "text": [
            "Mounted at /content/drive\n"
          ]
        }
      ]
    },
    {
      "cell_type": "code",
      "source": [
        "train_dir='/content/drive/MyDrive/train_cancer'\n",
        "test_dir='/content/drive/MyDrive/test_cancer'\n",
        "valid_dir='/content/drive/MyDrive/valid_cancer'\n",
        "transform=transforms.Compose([ transforms.RandomResizedCrop(224)\n",
        "                              ,transforms.ToTensor()\n",
        "                              ,transforms.Normalize((0.485, 0.456, 0.406), (0.229, 0.224, 0.225))])\n",
        "data_tr=datasets.ImageFolder(train_dir,transform)\n",
        "trian=DataLoader(data_tr,batch_size=15)\n",
        "\n",
        "data_v=datasets.ImageFolder(valid_dir,transform)\n",
        "valid=DataLoader(data_v,batch_size=15)\n",
        "\n",
        "data_t=datasets.ImageFolder(test_dir,transform)\n",
        "testm=DataLoader(data_t,batch_size=15)\n"
      ],
      "metadata": {
        "id": "-BnJe-w7ll2o"
      },
      "execution_count": null,
      "outputs": []
    },
    {
      "cell_type": "code",
      "source": [
        "model_transfer = models.vgg16(pretrained=True)\n",
        "for parm in model_transfer.features.parameters():\n",
        "    parm.requires_grad = False\n",
        "lastLayer=nn.Linear(model_transfer.classifier[6].in_features,3)\n",
        "model_transfer.classifier[6]=lastLayer\n",
        "\n"
      ],
      "metadata": {
        "id": "DEKInXS4loUM",
        "colab": {
          "base_uri": "https://localhost:8080/",
          "height": 66,
          "referenced_widgets": [
            "585a83bdb3b74a828c01e99223b1ae9a",
            "0b0ac026e80b455f888ae52f0693694e",
            "6aab287fcd9d46b9b9e870cb9c044d76",
            "fc0525426d904775b2f5c0b9e1325b32",
            "b09c9316ca9e44ffae8410ac651208c3",
            "012602d5b134411291b8b5dfd07349ac",
            "149549cd16814cb3b241392b3195eae9",
            "5d3734fb74d44fedab1d2b5cdcb5645d",
            "d7c0705975224cc4865eed36b41c881f",
            "fc995a3d79804d9e97d01e41b5519d7b",
            "5a58d413d8b9458bacdefd72f9eb306c"
          ]
        },
        "outputId": "1a1077e7-1cea-4a92-c48f-6604dce1dcb0"
      },
      "execution_count": null,
      "outputs": [
        {
          "output_type": "stream",
          "name": "stderr",
          "text": [
            "Downloading: \"https://download.pytorch.org/models/vgg16-397923af.pth\" to /root/.cache/torch/hub/checkpoints/vgg16-397923af.pth\n"
          ]
        },
        {
          "output_type": "display_data",
          "data": {
            "application/vnd.jupyter.widget-view+json": {
              "model_id": "585a83bdb3b74a828c01e99223b1ae9a",
              "version_minor": 0,
              "version_major": 2
            },
            "text/plain": [
              "  0%|          | 0.00/528M [00:00<?, ?B/s]"
            ]
          },
          "metadata": {}
        }
      ]
    },
    {
      "cell_type": "code",
      "source": [
        "def train_m(train_loader,val_loader,n_ep,model,optmizer,lossF,savepath):\n",
        "  min_val_loss=np.Inf\n",
        "\n",
        "  for ep in range(1,n_ep):\n",
        "    train_loss=0\n",
        "    valid_loss=0\n",
        "    model.train()\n",
        "    for batch_indx ,(data,target) in enumerate(train_loader):\n",
        "      if use_cuda:\n",
        "        data, target = data.cuda(), target.cuda()\n",
        "      optmizer.zero_grad()\n",
        "      output=model(data)\n",
        "      loss=lossF(output,target)\n",
        "      loss.backward()\n",
        "      optmizer.step()\n",
        "      train_loss = train_loss + ((1 / (batch_indx + 1)) * (loss.data.item() - train_loss))\n",
        "\n",
        "    model.eval() \n",
        "    for batch_indx ,(data,target) in enumerate(val_loader):\n",
        "      if use_cuda:\n",
        "        data, target = data.cuda(), target.cuda()\n",
        "      output=model(data)\n",
        "      loss=lossF(output,target)\n",
        "      valid_loss = valid_loss + ((1 / (batch_indx + 1)) * (loss.data.item() - valid_loss))\n",
        "      \n",
        "    print('epoc {} \\ttrining loss {:.6f} \\tvaldition loss {:.6f}'.format(ep,train_loss,valid_loss))\n",
        "\n",
        "    if(min_val_loss>valid_loss):\n",
        "      torch.save(model.state_dict(),savepath)\n",
        "      min_val_loss=valid_loss\n",
        "      print('saved the model')\n",
        "\n",
        "  return model"
      ],
      "metadata": {
        "id": "Ag1MW7iwlrit"
      },
      "execution_count": null,
      "outputs": []
    },
    {
      "cell_type": "code",
      "source": [
        "\n",
        "use_cuda=torch.cuda.is_available()\n",
        "if use_cuda:\n",
        "  model_transfer=model_transfer.cuda()\n",
        "lr=0.001\n",
        "opmizer= optim.SGD(model_transfer.parameters(),lr)\n",
        "lossF=nn.CrossEntropyLoss()\n",
        "model=train_m(trian,valid,15,model_transfer,opmizer,lossF,'/content/bestModel')"
      ],
      "metadata": {
        "id": "AQgaoJ6Vlyyr",
        "colab": {
          "base_uri": "https://localhost:8080/"
        },
        "outputId": "5cb8ba0c-c4fe-48a4-fc0d-2269f0d31231"
      },
      "execution_count": null,
      "outputs": [
        {
          "output_type": "stream",
          "name": "stdout",
          "text": [
            "epoc 1 \ttrining loss 0.061907 \tvaldition loss 0.010230\n",
            "saved the model\n",
            "epoc 2 \ttrining loss 0.007011 \tvaldition loss 0.004590\n",
            "saved the model\n",
            "epoc 3 \ttrining loss 0.004286 \tvaldition loss 0.002648\n",
            "saved the model\n",
            "epoc 4 \ttrining loss 0.002974 \tvaldition loss 0.001744\n",
            "saved the model\n",
            "epoc 5 \ttrining loss 0.002021 \tvaldition loss 0.002326\n",
            "epoc 6 \ttrining loss 0.002022 \tvaldition loss 0.001306\n",
            "saved the model\n",
            "epoc 7 \ttrining loss 0.001606 \tvaldition loss 0.001442\n",
            "epoc 8 \ttrining loss 0.001497 \tvaldition loss 0.001098\n",
            "saved the model\n",
            "epoc 9 \ttrining loss 0.001159 \tvaldition loss 0.000823\n",
            "saved the model\n",
            "epoc 10 \ttrining loss 0.000925 \tvaldition loss 0.000748\n",
            "saved the model\n",
            "epoc 11 \ttrining loss 0.000958 \tvaldition loss 0.000737\n",
            "saved the model\n",
            "epoc 12 \ttrining loss 0.000823 \tvaldition loss 0.000783\n",
            "epoc 13 \ttrining loss 0.000747 \tvaldition loss 0.000494\n",
            "saved the model\n",
            "epoc 14 \ttrining loss 0.000832 \tvaldition loss 0.000563\n"
          ]
        }
      ]
    },
    {
      "cell_type": "code",
      "source": [
        "def test_model(test_m, model, criterion, use_cuda):\n",
        "\n",
        "   \n",
        "    test_loss = 0.\n",
        "    correct = 0.\n",
        "    total = 0.\n",
        "\n",
        "   \n",
        "    model.eval()\n",
        "\n",
        "    for batch_idx, (data, target) in enumerate(test_m):\n",
        "     \n",
        "        if use_cuda:\n",
        "            data, target = data.cuda(), target.cuda()\n",
        "            model.cuda()\n",
        "       \n",
        "        output = model(data)\n",
        "      \n",
        "        loss = criterion(output, target)\n",
        "         \n",
        "        test_loss = test_loss + ((1 / (batch_idx + 1)) * (loss.data.item() - test_loss))\n",
        "      \n",
        "        pred = output.data.max(1, keepdim=True)[1]\n",
        "      \n",
        "        correct += np.sum(np.squeeze(pred.eq(target.data.view_as(pred))).cpu().numpy())\n",
        "        total += data.size(0)\n",
        "            \n",
        "    print('Test Loss: {:.6f}\\n'.format(test_loss))\n",
        "\n",
        "    print('\\nTest Accuracy: %2d%% (%2d/%2d)' % (\n",
        "        100. * correct / total, correct, total))\n",
        "test_model(testm, model_transfer, lossF, use_cuda)"
      ],
      "metadata": {
        "colab": {
          "base_uri": "https://localhost:8080/"
        },
        "id": "4Rq9mpQqUDg4",
        "outputId": "41784670-274a-4168-e774-703eb45caf24"
      },
      "execution_count": null,
      "outputs": [
        {
          "output_type": "stream",
          "name": "stdout",
          "text": [
            "Test Loss: 0.000681\n",
            "\n",
            "\n",
            "Test Accuracy: 100% (600/600)\n"
          ]
        }
      ]
    },
    {
      "cell_type": "code",
      "source": [
        " "
      ],
      "metadata": {
        "id": "ShftZu41x4_F"
      },
      "execution_count": null,
      "outputs": []
    }
  ]
}